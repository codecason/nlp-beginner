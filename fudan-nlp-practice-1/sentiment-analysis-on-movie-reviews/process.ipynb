{
 "cells": [
  {
   "cell_type": "code",
   "execution_count": 5,
   "id": "effcf68e",
   "metadata": {
    "scrolled": true
   },
   "outputs": [],
   "source": [
    "dir\n",
    "with open('./train.tsv/train.tsv') as f:\n",
    "    lines = f.readlines()\n"
   ]
  },
  {
   "cell_type": "code",
   "execution_count": 4,
   "id": "225de1c6",
   "metadata": {},
   "outputs": [
    {
     "data": {
      "text/plain": [
       "['.ipynb_checkpoints',\n",
       " 'process.ipynb',\n",
       " 'process.py',\n",
       " 'requirements.txt',\n",
       " 'sampleSubmission.csv',\n",
       " 'segments.json',\n",
       " 'submission.py',\n",
       " 'test.tsv',\n",
       " 'train.tsv']"
      ]
     },
     "execution_count": 4,
     "metadata": {},
     "output_type": "execute_result"
    }
   ],
   "source": []
  }
 ],
 "metadata": {
  "kernelspec": {
   "display_name": "Python 3 (ipykernel)",
   "language": "python",
   "name": "python3"
  },
  "language_info": {
   "codemirror_mode": {
    "name": "ipython",
    "version": 3
   },
   "file_extension": ".py",
   "mimetype": "text/x-python",
   "name": "python",
   "nbconvert_exporter": "python",
   "pygments_lexer": "ipython3",
   "version": "3.9.0"
  }
 },
 "nbformat": 4,
 "nbformat_minor": 5
}
